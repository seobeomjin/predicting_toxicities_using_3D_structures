{
 "cells": [
  {
   "cell_type": "code",
   "execution_count": 3,
   "metadata": {},
   "outputs": [],
   "source": [
    "import pandas as pd \n",
    "import numpy as np\n",
    "\n",
    "predictions = pd.read_csv('../../MD_data/exp3_results/exp3_predictions.csv')"
   ]
  },
  {
   "cell_type": "code",
   "execution_count": 4,
   "metadata": {},
   "outputs": [],
   "source": [
    "################## exp3 case ##################\n",
    "exp3_train_df = predictions.loc[predictions['set']=='training']\n",
    "exp3_valid_df = predictions.loc[predictions['set']=='validation']\n",
    "exp3_test_df = predictions.loc[predictions['set']=='test']\n",
    "\n",
    "################## exp4 case ##################\n",
    "\"\"\"\n",
    "train1_df = predictions.loc[predictions['set']=='training1']\n",
    "train2_df = predictions.loc[predictions['set']=='training2']\n",
    "test1_df = predictions.loc[predictions['set']=='test1']\n",
    "test2_df = predictions.loc[predictions['set']=='test2']\n",
    "valid1_df = predictions.loc[predictions['set']=='validation1']\n",
    "valid2_df = predictions.loc[predictions['set']=='validation2']\n",
    "\"\"\""
   ]
  },
  {
   "cell_type": "code",
   "execution_count": 5,
   "metadata": {},
   "outputs": [],
   "source": [
    "def rmse(df):\n",
    "    \"\"\"\n",
    "    root mean square error \n",
    "    (y - x)^2 / number of pairs  \n",
    "    \"\"\"\n",
    "    differ = 0\n",
    "    for i in df.index:\n",
    "        differ += ((df.loc[i]['real'] - df.loc[i]['predicted'])**2)\n",
    "        \n",
    "    rmse = differ/len(df)\n",
    "    rmse = np.sqrt(rmse)\n",
    "    return rmse "
   ]
  },
  {
   "cell_type": "code",
   "execution_count": 7,
   "metadata": {},
   "outputs": [
    {
     "data": {
      "text/plain": [
       "'\\nrmse_train1 = rmse(train1_df)\\nrmse_valid1 = rmse(valid1_df)\\nrmse_test1 = rmse(test1_df)\\n\\nrmse_train2 = rmse(train2_df)\\nrmse_valid2 = rmse(valid2_df)\\nrmse_test2 = rmse(test2_df)\\n'"
      ]
     },
     "execution_count": 7,
     "metadata": {},
     "output_type": "execute_result"
    }
   ],
   "source": [
    "################## exp3 case ##################\n",
    "rmse_exp3_train = rmse(exp3_train_df)\n",
    "rmse_exp3_valid = rmse(exp3_valid_df)\n",
    "rmse_exp3_test = rmse(exp3_test_df)\n",
    "\n",
    "################## exp4 case ##################\n",
    "\"\"\"\n",
    "rmse_train1 = rmse(train1_df)\n",
    "rmse_valid1 = rmse(valid1_df)\n",
    "rmse_test1 = rmse(test1_df)\n",
    "\n",
    "rmse_train2 = rmse(train2_df)\n",
    "rmse_valid2 = rmse(valid2_df)\n",
    "rmse_test2 = rmse(test2_df)\n",
    "\"\"\""
   ]
  },
  {
   "cell_type": "code",
   "execution_count": 8,
   "metadata": {},
   "outputs": [
    {
     "name": "stdout",
     "output_type": "stream",
     "text": [
      "train rmse : 0.7368482580459724\n",
      "test rmse : 1.471563001121791\n",
      "validation rmse : 0.6549913549656258\n"
     ]
    },
    {
     "data": {
      "text/plain": [
       "'\\nprint(\"======== task 1 =========\")\\nprint (\\'train1 rmse :\\' , rmse_train1)\\nprint (\\'test1 rmse :\\' , rmse_test1)\\nprint (\\'validation1 rmse :\\' , rmse_valid1)\\n\\nprint(\"======== task 2 =========\")\\nprint (\\'train2 rmse :\\' , rmse_train2)\\nprint (\\'test2 rmse :\\' , rmse_test2)\\nprint (\\'validation2 rmse :\\' , rmse_valid2)\\n'"
      ]
     },
     "execution_count": 8,
     "metadata": {},
     "output_type": "execute_result"
    }
   ],
   "source": [
    "################## exp3 case ##################\n",
    "print ('train rmse :' , rmse_exp3_train)\n",
    "print ('test rmse :' , rmse_exp3_test)\n",
    "print ('validation rmse :' , rmse_exp3_valid)\n",
    "\n",
    "\n",
    "################## exp4 case ##################\n",
    "\"\"\"\n",
    "print(\"======== task 1 =========\")\n",
    "print ('train1 rmse :' , rmse_train1)\n",
    "print ('test1 rmse :' , rmse_test1)\n",
    "print ('validation1 rmse :' , rmse_valid1)\n",
    "\n",
    "print(\"======== task 2 =========\")\n",
    "print ('train2 rmse :' , rmse_train2)\n",
    "print ('test2 rmse :' , rmse_test2)\n",
    "print ('validation2 rmse :' , rmse_valid2)\n",
    "\"\"\""
   ]
  },
  {
   "cell_type": "code",
   "execution_count": null,
   "metadata": {},
   "outputs": [],
   "source": []
  }
 ],
 "metadata": {
  "kernelspec": {
   "display_name": "Python 3",
   "language": "python",
   "name": "python3"
  },
  "language_info": {
   "codemirror_mode": {
    "name": "ipython",
    "version": 3
   },
   "file_extension": ".py",
   "mimetype": "text/x-python",
   "name": "python",
   "nbconvert_exporter": "python",
   "pygments_lexer": "ipython3",
   "version": "3.7.4"
  }
 },
 "nbformat": 4,
 "nbformat_minor": 2
}
