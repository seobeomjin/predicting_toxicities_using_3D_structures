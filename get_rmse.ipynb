{
 "cells": [
  {
   "cell_type": "code",
   "execution_count": 95,
   "metadata": {},
   "outputs": [],
   "source": [
    "import pandas as pd \n",
    "import numpy as np\n",
    "\n",
    "predictions = pd.read_csv('exp3_predictions.csv')"
   ]
  },
  {
   "cell_type": "code",
   "execution_count": 96,
   "metadata": {},
   "outputs": [],
   "source": [
    "train_df = predictions.loc[predictions['set']=='training']\n",
    "test_df = predictions.loc[predictions['set']=='test']\n",
    "valid_df = predictions.loc[predictions['set']=='validation']"
   ]
  },
  {
   "cell_type": "code",
   "execution_count": 97,
   "metadata": {},
   "outputs": [],
   "source": [
    "def rmse(df):\n",
    "    \"\"\"\n",
    "    root mean square error \n",
    "    (y - x)^2 / number of pairs  \n",
    "    \"\"\"\n",
    "    differ = 0\n",
    "    for i in df.index:\n",
    "        differ += ((df.loc[i]['real'] - df.loc[i]['predicted'])**2)\n",
    "        \n",
    "    rmse = differ/len(df)\n",
    "    rmse = np.sqrt(rmse)\n",
    "    return rmse "
   ]
  },
  {
   "cell_type": "code",
   "execution_count": 98,
   "metadata": {},
   "outputs": [],
   "source": [
    "rmse_train = rmse(train_df)\n",
    "rmse_valid = rmse(valid_df)\n",
    "rmse_test = rmse(test_df)"
   ]
  },
  {
   "cell_type": "code",
   "execution_count": 99,
   "metadata": {},
   "outputs": [
    {
     "name": "stdout",
     "output_type": "stream",
     "text": [
      "train rmse : 0.7368482580459724\n",
      "test rmse : 1.471563001121791\n",
      "validation rmse : 0.6549913549656258\n"
     ]
    }
   ],
   "source": [
    "print ('train rmse :' , rmse_train)\n",
    "print ('test rmse :' , rmse_test)\n",
    "print ('validation rmse :' , rmse_valid)"
   ]
  }
 ],
 "metadata": {
  "kernelspec": {
   "display_name": "Python 3",
   "language": "python",
   "name": "python3"
  },
  "language_info": {
   "codemirror_mode": {
    "name": "ipython",
    "version": 3
   },
   "file_extension": ".py",
   "mimetype": "text/x-python",
   "name": "python",
   "nbconvert_exporter": "python",
   "pygments_lexer": "ipython3",
   "version": "3.7.4"
  }
 },
 "nbformat": 4,
 "nbformat_minor": 2
}
